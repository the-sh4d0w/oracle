{
 "cells": [
  {
   "cell_type": "code",
   "execution_count": 10,
   "metadata": {},
   "outputs": [],
   "source": [
    "# - command: web IP; open website at IP"
   ]
  },
  {
   "cell_type": "code",
   "execution_count": 11,
   "metadata": {},
   "outputs": [],
   "source": [
    "import enum\n",
    "import pathlib\n",
    "import re\n",
    "import typing\n",
    "\n",
    "import pydantic\n",
    "\n",
    "import utils.computer"
   ]
  },
  {
   "cell_type": "code",
   "execution_count": 12,
   "metadata": {},
   "outputs": [],
   "source": [
    "NET_PATH = \"test.json\""
   ]
  },
  {
   "cell_type": "code",
   "execution_count": 13,
   "metadata": {},
   "outputs": [],
   "source": [
    "class DeviceType(enum.StrEnum):\n",
    "    TERMINAL = \"terminal\"\n",
    "    CYBERDECK = \"cyberdeck\"\n",
    "    SERVER = \"server\"\n",
    "    IMPLANT = \"implant\"\n",
    "\n",
    "class Manufacturer(enum.StrEnum):\n",
    "    OUTEL = \"Outel\"\n",
    "    BMD = \"BMD\"\n",
    "    CYCLOPS = \"Cyclops\"\n",
    "    ACRON = \"Acron\"\n",
    "\n",
    "class OperatingSystem(enum.StrEnum):\n",
    "    ORACLEOS = \"oracleOS\"\n",
    "    CYCLOPSOS = \"CyclopsOS\""
   ]
  },
  {
   "cell_type": "code",
   "execution_count": null,
   "metadata": {},
   "outputs": [],
   "source": [
    "class NPv5Address:\n",
    "    \"\"\"Net Protocol v5 address. It is represented as 8 bytes seperated by dots.\"\"\"\n",
    "    NUM_BYTES: int = 8\n",
    "\n",
    "    def __init__(self, address: \"str | int | NPv5Address\") -> None:\n",
    "        \"\"\"Initialize the address.\"\"\"\n",
    "        self.address: int = self._parse(address)\n",
    "\n",
    "    def __repr__(self) -> str:\n",
    "        \"\"\"Official string representation.\"\"\"\n",
    "        return f\"{self.__class__.__name__}({self.address})\"\n",
    "\n",
    "    def __str__(self) -> str:\n",
    "        \"\"\"Informal string representation.\"\"\"\n",
    "        return \".\".join(map(\"{:02X}\".format, list(self.address.to_bytes(self.NUM_BYTES))))\n",
    "\n",
    "    def _parse(self, address: \"str | int | NPv5Address\") -> int:\n",
    "        \"\"\"Parse address to int from str, int, or address.\"\"\"\n",
    "        if isinstance(address, NPv5Address):\n",
    "            return address.address\n",
    "        elif isinstance(address, str):\n",
    "            if match := re.fullmatch(r\"\\.\".join(self.NUM_BYTES * [\"[0-9a-fA-F]{1,2}\"]), address):\n",
    "                return int.from_bytes(bytes.fromhex(match.string.replace(\".\", \"\")))\n",
    "        elif isinstance(address, int):\n",
    "            if 0 <= address <= 2**(self.NUM_BYTES * 8) - 1:\n",
    "                return address\n",
    "        raise TypeError(\"Type not accepted.\")"
   ]
  },
  {
   "cell_type": "code",
   "execution_count": 15,
   "metadata": {},
   "outputs": [],
   "source": [
    "# FIXME: replace computer with device?\n",
    "class Computer(pydantic.BaseModel):\n",
    "    \"\"\"Computer representation.\"\"\"\n",
    "    model_config = pydantic.ConfigDict(arbitrary_types_allowed=True)\n",
    "    net_address: NPv5Address\n",
    "    ports: list[utils.computer.Ports] = []\n",
    "    running_programs: list[None] = []  # actually program class? -> websites?\n",
    "    # file_system: utils.computer.FileSystem = utils.computer.FileSystem()\n",
    "\n",
    "    @pydantic.field_serializer(\"net_address\")\n",
    "    def _serialize_address(self, net_address: NPv5Address) -> int:\n",
    "        \"\"\"Serialize address (returns address as int).\"\"\"\n",
    "        return net_address.address\n",
    "\n",
    "    @pydantic.field_validator(\"net_address\", mode=\"before\")\n",
    "    @classmethod\n",
    "    def _validate_address(cls, value: int) -> NPv5Address:\n",
    "        \"\"\"Validate address (initialises NPv5Address with value).\"\"\"\n",
    "        return NPv5Address(value)"
   ]
  },
  {
   "cell_type": "code",
   "execution_count": 16,
   "metadata": {},
   "outputs": [],
   "source": [
    "SYSINFO_TEXT = \"\"\"\n",
    "OS:         {os}\n",
    "Kernel:     {kernel}\n",
    "Uptime:     {uptime}\n",
    "Shell:      {shell}\n",
    "CPU:        {cpu}\n",
    "Memory:     {memory}\n",
    "\"\"\"\n",
    "\n",
    "\n",
    "class Device(pydantic.BaseModel):\n",
    "    \"\"\"Device respresentation.\"\"\"\n",
    "    model_config = pydantic.ConfigDict(arbitrary_types_allowed=True)\n",
    "    net_address: NPv5Address\n",
    "    # can be terminal, computer, server, brain computer, car, ...\n",
    "    # do we use an actual type? (for game backend systems only)\n",
    "    name: str\n",
    "    \"\"\"Set by user of the device.\"\"\"\n",
    "    type: DeviceType\n",
    "    \"\"\"Type of the device.\"\"\"\n",
    "    # hardware info\n",
    "    manufacturer: Manufacturer\n",
    "    \"\"\"Name of the manufacturer.\"\"\"\n",
    "    device_name: str\n",
    "    \"\"\"Name of the device.\"\"\"\n",
    "\n",
    "    @pydantic.field_serializer(\"net_address\")\n",
    "    def _serialize_net_address(self, net_address: NPv5Address) -> int:\n",
    "        \"\"\"Serialize net_address (returns address as int).\"\"\"\n",
    "        return net_address.address\n",
    "\n",
    "    @pydantic.field_validator(\"net_address\", mode=\"before\")\n",
    "    @classmethod\n",
    "    def _validate_net_address(cls, value: int) -> NPv5Address:\n",
    "        \"\"\"Validate net_address (initialises NPv5Address with value).\"\"\"\n",
    "        return NPv5Address(value)\n",
    "\n",
    "    def sysinfo(self) -> str:\n",
    "        return SYSINFO_TEXT.format_map({\"os\": \"oracleOS\", \"kernel\": \"lunix\", \"uptime\": \"0d 3h 17m 9s\",\n",
    "                                        \"shell\": \"bosh\", \"cpu\": \"Cyclops i803\", \"memory\": \"???\"})"
   ]
  },
  {
   "cell_type": "code",
   "execution_count": null,
   "metadata": {},
   "outputs": [],
   "source": [
    "device = Device(net_address=987654321, name=\"zer0's Computer\", type=DeviceType.TERMINAL,\n",
    "                manufacturer=Manufacturer.ACRON, device_name=\"?\")"
   ]
  },
  {
   "cell_type": "code",
   "execution_count": 18,
   "metadata": {},
   "outputs": [
    {
     "name": "stdout",
     "output_type": "stream",
     "text": [
      "\n",
      "OS:         oracleOS\n",
      "Kernel:     lunix\n",
      "Uptime:     0d 3h 17m 9s\n",
      "Shell:      bosh\n",
      "CPU:        Cyclops i803\n",
      "Memory:     ???\n",
      "\n"
     ]
    }
   ],
   "source": [
    "print(device.sysinfo())"
   ]
  },
  {
   "cell_type": "code",
   "execution_count": 19,
   "metadata": {},
   "outputs": [],
   "source": [
    "class Net(pydantic.BaseModel):\n",
    "    \"\"\"Net/world representation.\"\"\"\n",
    "    home: Computer\n",
    "    dns: dict[str, str]\n",
    "    computers: list[Computer]\n",
    "    network_graph: list[tuple[str, str]]\n",
    "\n",
    "    def store(self) -> None:\n",
    "        \"\"\"Store the config in a file.\"\"\"\n",
    "        pathlib.Path(NET_PATH).write_text(\n",
    "            self.model_dump_json(), encoding=\"utf-8\")"
   ]
  }
 ],
 "metadata": {
  "kernelspec": {
   "display_name": ".venv",
   "language": "python",
   "name": "python3"
  },
  "language_info": {
   "codemirror_mode": {
    "name": "ipython",
    "version": 3
   },
   "file_extension": ".py",
   "mimetype": "text/x-python",
   "name": "python",
   "nbconvert_exporter": "python",
   "pygments_lexer": "ipython3",
   "version": "3.11.0"
  }
 },
 "nbformat": 4,
 "nbformat_minor": 2
}
