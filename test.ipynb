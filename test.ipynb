{
 "cells": [
  {
   "cell_type": "code",
   "execution_count": 11,
   "metadata": {},
   "outputs": [],
   "source": [
    "# - command: web IP; open website at IP"
   ]
  },
  {
   "cell_type": "code",
   "execution_count": 1,
   "metadata": {},
   "outputs": [],
   "source": [
    "import enum\n",
    "import ipaddress\n",
    "import pathlib\n",
    "import re\n",
    "\n",
    "import pydantic\n",
    "\n",
    "import utils.computer"
   ]
  },
  {
   "cell_type": "code",
   "execution_count": 2,
   "metadata": {},
   "outputs": [],
   "source": [
    "NET_PATH = \"test.json\""
   ]
  },
  {
   "cell_type": "code",
   "execution_count": 3,
   "metadata": {},
   "outputs": [],
   "source": [
    "class DeviceType(enum.StrEnum):\n",
    "    TERMINAL = \"terminal\"\n",
    "    CYBERDECK = \"cyberdeck\"\n",
    "    SERVER = \"server\"\n",
    "    IMPLANT = \"implant\"\n",
    "\n",
    "class Manufacturer(enum.StrEnum):\n",
    "    OUTEL = \"Outel\"\n",
    "    BMD = \"BMD\"\n",
    "    CYCLOPS = \"Cyclops\"\n",
    "    ACRON = \"Acron\"\n",
    "\n",
    "class OperatingSystem(enum.StrEnum):\n",
    "    ORACLEOS = \"oracleOS\"\n",
    "    CYCLOPSOS = \"CyclopsOS\""
   ]
  },
  {
   "cell_type": "code",
   "execution_count": 4,
   "metadata": {},
   "outputs": [],
   "source": [
    "class NPv5Address:\n",
    "    \"\"\"Net Protocol v5 address. It is represented as 5 bytes seperated by dots.\"\"\"\n",
    "\n",
    "    def __init__(self, address: \"str | int | NPv5Address\") -> None:\n",
    "        \"\"\"Initialize the address.\"\"\"\n",
    "        self.address: int = self._parse(address)\n",
    "\n",
    "    def __repr__(self) -> str:\n",
    "        \"\"\"Official string representation.\"\"\"\n",
    "        return f\"{self.__class__.__name__}({self.address})\"\n",
    "\n",
    "    def __str__(self) -> str:\n",
    "        \"\"\"Informal string representation.\"\"\"\n",
    "        a, b, c, d, e = self.address.to_bytes(5)\n",
    "        return f\"{a:02X}.{b:02X}.{c:02X}.{d:02X}.{e:02X}\"\n",
    "\n",
    "    def _parse(self, address: \"str | int | NPv5Address\") -> int:\n",
    "        \"\"\"Parse address to int from str, int, or address.\"\"\"\n",
    "        if isinstance(address, NPv5Address):\n",
    "            return address.address\n",
    "        elif isinstance(address, str):\n",
    "            if match := re.fullmatch(r\"[0-9a-fA-F]{1,2}\\.[0-9a-fA-F]{1,2}\\.[0-9a-fA-F]{1,2}\\.\"\n",
    "                                     r\"[0-9a-fA-F]{1,2}\\.[0-9a-fA-F]{1,2}\", address):\n",
    "                return int.from_bytes(bytes.fromhex(match.string.replace(\".\", \"\")))\n",
    "        elif isinstance(address, int):\n",
    "            if 0 <= address <= 1099511627775:\n",
    "                return address\n",
    "        raise TypeError(\"Type not accepted.\")"
   ]
  },
  {
   "cell_type": "code",
   "execution_count": 5,
   "metadata": {},
   "outputs": [
    {
     "data": {
      "text/plain": [
       "'A4.12.37.B0.F9'"
      ]
     },
     "execution_count": 5,
     "metadata": {},
     "output_type": "execute_result"
    }
   ],
   "source": [
    "# A4.12.37.B0.F9\n",
    "str(NPv5Address(\"A4.12.37.B0.F9\"))"
   ]
  },
  {
   "cell_type": "code",
   "execution_count": 6,
   "metadata": {},
   "outputs": [],
   "source": [
    "SYSINFO_TEXT = \"\"\"\n",
    "OS:         {os}\n",
    "Kernel:     {kernel}\n",
    "Uptime:     {uptime}\n",
    "Shell:      {shell}\n",
    "CPU:        {cpu}\n",
    "Memory:     {memory}\n",
    "\"\"\"\n",
    "\n",
    "\n",
    "class Device(pydantic.BaseModel):\n",
    "    \"\"\"Device respresentation.\"\"\"\n",
    "    # can be terminal, computer, server, brain computer, car, ...\n",
    "    # do we use an actual type? (for game backend systems only)\n",
    "    name: str\n",
    "    \"\"\"Set by user of the device.\"\"\"\n",
    "    type: DeviceType\n",
    "    \"\"\"Type of the device.\"\"\"\n",
    "    # hardware info\n",
    "    manufacturer: Manufacturer\n",
    "    \"\"\"Name of the manufacturer.\"\"\"\n",
    "    device_name: str\n",
    "    \"\"\"Name of the device.\"\"\"\n",
    "\n",
    "    def sysinfo(self) -> str:\n",
    "        return SYSINFO_TEXT.format_map({\"os\": \"oracleOS\", \"kernel\": \"lunix\", \"uptime\": \"0d 3h 17m 9s\",\n",
    "                                        \"shell\": \"bosh\", \"cpu\": \"Cyclops i803\", \"memory\": \"???\"})"
   ]
  },
  {
   "cell_type": "code",
   "execution_count": 7,
   "metadata": {},
   "outputs": [],
   "source": [
    "device = Device(name=\"zer0's Computer\", type=DeviceType.TERMINAL, manufacturer=Manufacturer.ACRON,\n",
    "                device_name=\"?\")"
   ]
  },
  {
   "cell_type": "code",
   "execution_count": 8,
   "metadata": {},
   "outputs": [
    {
     "name": "stdout",
     "output_type": "stream",
     "text": [
      "\n",
      "OS:         oracleOS\n",
      "Kernel:     lunix\n",
      "Uptime:     0d 3h 17m 9s\n",
      "Shell:      bosh\n",
      "CPU:        Cyclops i803\n",
      "Memory:     ???\n",
      "\n"
     ]
    }
   ],
   "source": [
    "print(device.sysinfo())"
   ]
  },
  {
   "cell_type": "code",
   "execution_count": 9,
   "metadata": {},
   "outputs": [],
   "source": [
    "class Computer(pydantic.BaseModel):\n",
    "    \"\"\"Computer representation.\"\"\"\n",
    "    ip_address: ipaddress.IPv4Address = ipaddress.IPv4Address(1)\n",
    "    ports: list[utils.computer.Ports] = []\n",
    "    running_programs: list[None] = []  # actually program class? -> websites?\n",
    "    # file_system: utils.computer.FileSystem = utils.computer.FileSystem()"
   ]
  },
  {
   "cell_type": "code",
   "execution_count": 10,
   "metadata": {},
   "outputs": [],
   "source": [
    "class Net(pydantic.BaseModel):\n",
    "    \"\"\"Net/world representation.\"\"\"\n",
    "    home: Computer\n",
    "    dns: dict[str, str]\n",
    "    computers: list[Computer]\n",
    "    network_graph: list[tuple[str, str]]\n",
    "\n",
    "    def store(self) -> None:\n",
    "        \"\"\"Store the config in a file.\"\"\"\n",
    "        pathlib.Path(NET_PATH).write_text(self.model_dump_json(),\n",
    "                                             encoding=\"utf-8\")"
   ]
  }
 ],
 "metadata": {
  "kernelspec": {
   "display_name": ".venv",
   "language": "python",
   "name": "python3"
  },
  "language_info": {
   "codemirror_mode": {
    "name": "ipython",
    "version": 3
   },
   "file_extension": ".py",
   "mimetype": "text/x-python",
   "name": "python",
   "nbconvert_exporter": "python",
   "pygments_lexer": "ipython3",
   "version": "3.12.3"
  }
 },
 "nbformat": 4,
 "nbformat_minor": 2
}
